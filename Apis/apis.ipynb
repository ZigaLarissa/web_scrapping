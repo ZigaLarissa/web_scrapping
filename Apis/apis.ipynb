{
 "cells": [
  {
   "cell_type": "code",
   "execution_count": 9,
   "metadata": {},
   "outputs": [
    {
     "name": "stdout",
     "output_type": "stream",
     "text": [
      "Rodia\n"
     ]
    }
   ],
   "source": [
    "import requests\n",
    "import json\n",
    "\n",
    "url = 'https://swapi-api.alx-tools.com/api/species/'\n",
    "\n",
    "while url:\n",
    "    response = requests.get(url)\n",
    "    data = response.json()\n",
    "\n",
    "    for species in data['results']:\n",
    "        if species['classification'] == 'sentient' and species['homeworld'] != 'unknown' and species['homeworld'] != 'null':\n",
    "            home_url = (species['homeworld'])\n",
    "            home_response = requests.get(home_url)\n",
    "            home_data = home_response.json()\n",
    "            home_name = home_data['name']\n",
    "            print(home_name)\n",
    "\n",
    "    url = data['next']\n",
    "    "
   ]
  },
  {
   "cell_type": "code",
   "execution_count": null,
   "metadata": {},
   "outputs": [],
   "source": []
  }
 ],
 "metadata": {
  "kernelspec": {
   "display_name": ".venv",
   "language": "python",
   "name": "python3"
  },
  "language_info": {
   "codemirror_mode": {
    "name": "ipython",
    "version": 3
   },
   "file_extension": ".py",
   "mimetype": "text/x-python",
   "name": "python",
   "nbconvert_exporter": "python",
   "pygments_lexer": "ipython3",
   "version": "3.11.0"
  }
 },
 "nbformat": 4,
 "nbformat_minor": 2
}
